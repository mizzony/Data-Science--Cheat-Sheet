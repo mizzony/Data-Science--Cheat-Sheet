{
  "cells": [
    {
      "cell_type": "markdown",
      "metadata": {
        "id": "view-in-github",
        "colab_type": "text"
      },
      "source": [
        "<a href=\"https://colab.research.google.com/github/mizzony/Data-Science--Cheat-Sheet/blob/master/Ch08_string.ipynb\" target=\"_parent\"><img src=\"https://colab.research.google.com/assets/colab-badge.svg\" alt=\"Open In Colab\"/></a>"
      ]
    },
    {
      "cell_type": "markdown",
      "metadata": {
        "id": "1sY1GC1pIO72"
      },
      "source": [
        "&copy; 2022 by Pearson Education, Inc. All Rights Reserved. The content in this notebook is based on the book [**Python for Programmers**](https://amzn.to/2VvdnxE)."
      ]
    },
    {
      "cell_type": "markdown",
      "metadata": {
        "id": "o9u8myu3IO73"
      },
      "source": [
        "### Python Fundamentals LiveLessons Videos\n",
        "* For a detailed presentation of the content in this notebook see **[Lesson 8](https://learning.oreilly.com/videos/python-fundamentals/9780135917411/9780135917411-PFLL_Lesson08_00)** on O'Reilly Online Learning"
      ]
    },
    {
      "cell_type": "markdown",
      "metadata": {
        "id": "oAE-_v2AIO74"
      },
      "source": [
        "# 8. Strings: A Deeper Look\n",
        "\n",
        "# 8.1 Introduction\n",
        "* Format string content\n",
        "* Splitting/joining strings\n",
        "* Raw string literals\n",
        "* Regular expressions for matching patterns in strings, replace substrings and validate data\n",
        "\n",
        "**More discussed in Lesson 8 videos**\n",
        "* For a discussion of many string methods, check out Lesson 8 of my [**Python Fundamentals LiveLessons** here on O'Reilly Online Learning](https://learning.oreilly.com/videos/python-fundamentals/9780135917411)\n",
        "* For a list of methods, visit https://docs.python.org/3/library/stdtypes.html#text-sequence-type-str\n"
      ]
    },
    {
      "cell_type": "markdown",
      "metadata": {
        "id": "f1hUpvd8IO74"
      },
      "source": [
        "# 8.2 Formatting Strings\n",
        "# 8.2.1 Presentation Types"
      ]
    },
    {
      "cell_type": "markdown",
      "metadata": {
        "id": "CS53j6cgIO74"
      },
      "source": [
        "### **`f` Presentation Type** for Floating-Point Numbers and 'Decimal's"
      ]
    },
    {
      "cell_type": "code",
      "execution_count": null,
      "metadata": {
        "id": "Nzr5SvdJIO74",
        "outputId": "5ce40a3f-89c7-4573-90d2-1bbbba45e953",
        "colab": {
          "base_uri": "https://localhost:8080/",
          "height": 35
        }
      },
      "outputs": [
        {
          "output_type": "execute_result",
          "data": {
            "text/plain": [
              "'17.49'"
            ],
            "application/vnd.google.colaboratory.intrinsic+json": {
              "type": "string"
            }
          },
          "metadata": {},
          "execution_count": 1
        }
      ],
      "source": [
        "f'{17.489:.2f}'"
      ]
    },
    {
      "cell_type": "markdown",
      "metadata": {
        "id": "sIPGNQNAIO75"
      },
      "source": [
        "* Can also use the **`e` presentation type** for exponential (scientific) notation."
      ]
    },
    {
      "cell_type": "markdown",
      "metadata": {
        "id": "q-i6TtjjIO75"
      },
      "source": [
        "### **`d` Presentation Type** for Integers\n",
        "* There also are integer presentation types (`b`, `o` and `x` or `X`) that format integers using the binary, octal or hexadecimal number systems."
      ]
    },
    {
      "cell_type": "code",
      "execution_count": null,
      "metadata": {
        "id": "ibAosWBwIO76",
        "outputId": "02279493-d892-451f-96d8-f4da46bc7c13"
      },
      "outputs": [
        {
          "data": {
            "text/plain": [
              "'f4240'"
            ]
          },
          "execution_count": 2,
          "metadata": {},
          "output_type": "execute_result"
        }
      ],
      "source": [
        "f'{1000000:x}'"
      ]
    },
    {
      "cell_type": "markdown",
      "metadata": {
        "id": "mJhXI73IIO76"
      },
      "source": [
        "### **`c` presentation type** Formats an Integer Character Code as a Character"
      ]
    },
    {
      "cell_type": "code",
      "execution_count": null,
      "metadata": {
        "id": "DrYLv3tmIO76",
        "outputId": "1b889afd-068d-43b3-990a-53343d44bbf8"
      },
      "outputs": [
        {
          "data": {
            "text/plain": [
              "'😀  A  a'"
            ]
          },
          "execution_count": 3,
          "metadata": {},
          "output_type": "execute_result"
        }
      ],
      "source": [
        "f'{0x1F600:c}  {65:c}  {97:c}'"
      ]
    },
    {
      "cell_type": "markdown",
      "metadata": {
        "id": "8xGWFzfrIO76"
      },
      "source": [
        "### **`s` Presentation Type** for Strings Is the Default\n",
        "* If specified explicitly, the value to format **must be a string**, an **expression that produces a string** or a **string literal**.\n",
        "* If you do not specify a presentation type, non-string values are converted to strings."
      ]
    },
    {
      "cell_type": "code",
      "execution_count": null,
      "metadata": {
        "id": "rcOAjNCuIO76",
        "outputId": "45757508-5dc7-493c-d658-99a41c6fcf18"
      },
      "outputs": [
        {
          "data": {
            "text/plain": [
              "'hello 7'"
            ]
          },
          "execution_count": 4,
          "metadata": {},
          "output_type": "execute_result"
        }
      ],
      "source": [
        "f'{\"hello\":s} {7}'"
      ]
    },
    {
      "cell_type": "markdown",
      "metadata": {
        "id": "JjzBHUQFIO76"
      },
      "source": [
        "# 8.9 Splitting and Joining Strings"
      ]
    },
    {
      "cell_type": "markdown",
      "metadata": {
        "id": "iw6FAuCHIO76"
      },
      "source": [
        "### Splitting Strings with Method `split`  \n",
        "* Tokenizes a string at each whitespace character by default."
      ]
    },
    {
      "cell_type": "code",
      "execution_count": null,
      "metadata": {
        "id": "TGg5KJFSIO76"
      },
      "outputs": [],
      "source": [
        "letters = 'A, B, C, D'"
      ]
    },
    {
      "cell_type": "code",
      "execution_count": null,
      "metadata": {
        "id": "nAutsLnAIO76",
        "outputId": "8a35e00e-4972-482e-8d57-29bed501c977"
      },
      "outputs": [
        {
          "data": {
            "text/plain": [
              "['A', 'B', 'C', 'D']"
            ]
          },
          "execution_count": 6,
          "metadata": {},
          "output_type": "execute_result"
        }
      ],
      "source": [
        "letters.split(', ')"
      ]
    },
    {
      "cell_type": "markdown",
      "metadata": {
        "id": "jQr8PIhuIO77"
      },
      "source": [
        "### Joining Strings with Method **`join`**\n",
        "* Concatenates an iterable **containing only string values**."
      ]
    },
    {
      "cell_type": "code",
      "execution_count": null,
      "metadata": {
        "id": "YW3UkVYQIO77"
      },
      "outputs": [],
      "source": [
        "letters_list = ['A', 'B', 'C', 'D']"
      ]
    },
    {
      "cell_type": "code",
      "execution_count": null,
      "metadata": {
        "id": "axC4B0KGIO77",
        "outputId": "34768cff-971f-4bfd-c208-095ceda09da6"
      },
      "outputs": [
        {
          "data": {
            "text/plain": [
              "'A--B--C--D'"
            ]
          },
          "execution_count": 8,
          "metadata": {},
          "output_type": "execute_result"
        }
      ],
      "source": [
        "'--'.join(letters_list)"
      ]
    },
    {
      "cell_type": "code",
      "execution_count": null,
      "metadata": {
        "id": "Kg9fwlkeIO77",
        "outputId": "dda1f0eb-44e0-4652-c578-d221c5cec3d8"
      },
      "outputs": [
        {
          "data": {
            "text/plain": [
              "'0,1,2,3,4,5,6,7,8,9'"
            ]
          },
          "execution_count": 9,
          "metadata": {},
          "output_type": "execute_result"
        }
      ],
      "source": [
        "','.join([str(i) for i in range(10)])"
      ]
    },
    {
      "cell_type": "markdown",
      "metadata": {
        "id": "ZLC-3Z7vIO77"
      },
      "source": [
        "# 8.11 Raw Strings\n",
        "* Backslash characters in strings introduce **escape sequences**."
      ]
    },
    {
      "cell_type": "code",
      "execution_count": null,
      "metadata": {
        "id": "jXx3dqXTIO77"
      },
      "outputs": [],
      "source": [
        "file_path = 'C:\\\\MyFolder\\\\MySubFolder\\\\MyFile.txt'  # Windows file path"
      ]
    },
    {
      "cell_type": "code",
      "execution_count": null,
      "metadata": {
        "id": "L_nhR2mLIO77"
      },
      "outputs": [],
      "source": [
        "file_path"
      ]
    },
    {
      "cell_type": "code",
      "execution_count": null,
      "metadata": {
        "id": "gsRJ3GAWIO77"
      },
      "outputs": [],
      "source": [
        "print(file_path)"
      ]
    },
    {
      "cell_type": "markdown",
      "metadata": {
        "id": "VR3j2KSWIO78"
      },
      "source": [
        "* **Raw strings**—preceded by **`r`**—treat each backslash as a literal character.\n",
        "* Particularly useful with **regular expressions**, which often contain backslashes."
      ]
    },
    {
      "cell_type": "code",
      "execution_count": null,
      "metadata": {
        "id": "V2IhtGL9IO78"
      },
      "outputs": [],
      "source": [
        "file_path = r'C:\\MyFolder\\MySubFolder\\MyFile.txt'"
      ]
    },
    {
      "cell_type": "code",
      "execution_count": null,
      "metadata": {
        "id": "Rp1EWN1HIO78"
      },
      "outputs": [],
      "source": [
        "file_path"
      ]
    },
    {
      "cell_type": "markdown",
      "metadata": {
        "id": "lRTce5k-IO78"
      },
      "source": [
        "# 8.12 Introduction to Regular Expressions\n",
        "* **Regular expressions (regex)** recognize **patterns** in text&mdash;phone numbers, e-mail addresses, ZIP Codes, web page addresses, Social Security numbers, ...\n",
        "* Useful for\n",
        "    * Validating data.\n",
        "    * Extracting data from text (known as **scraping** or **mining**).\n",
        "    * Cleaning data to prepare it for use.\n",
        "    * Transforming data into other formats."
      ]
    },
    {
      "cell_type": "markdown",
      "metadata": {
        "id": "N_tnQisEIO78"
      },
      "source": [
        "### Regular Expression Repositories of Existing Regular Expressions\n",
        "* [regex101.com](https://regex101.com)\n",
        "* [regexlib.com](http://www.regexlib.com)\n",
        "* [regular-expressions.info](https://www.regular-expressions.info)"
      ]
    },
    {
      "cell_type": "markdown",
      "metadata": {
        "id": "-EEcnGMtIO78"
      },
      "source": [
        "## 8.12.1 **`re` Module** and Function `fullmatch`\n",
        "* Function **`fullmatch`** checks whether the **entire string** in its second argument **matches the pattern** in its first argument."
      ]
    },
    {
      "cell_type": "markdown",
      "metadata": {
        "id": "TOv-RSxxIO78"
      },
      "source": [
        "### Use `\\d` Predefined Character Class and a Quantifier to Match **5 Digits**\n",
        "* **`\\d`** matches one digit (0–9).\n",
        "* A character class **matches _one_ character**."
      ]
    },
    {
      "cell_type": "code",
      "execution_count": null,
      "metadata": {
        "id": "x0f-t33UIO78"
      },
      "outputs": [],
      "source": [
        "import re"
      ]
    },
    {
      "cell_type": "code",
      "execution_count": null,
      "metadata": {
        "id": "mR3DuO2yIO78"
      },
      "outputs": [],
      "source": [
        "'Valid' if re.fullmatch(r'\\d{5}', '02215') else 'Invalid'"
      ]
    },
    {
      "cell_type": "code",
      "execution_count": null,
      "metadata": {
        "id": "A5Gc6rHuIO78"
      },
      "outputs": [],
      "source": [
        "'Valid' if re.fullmatch(r'\\d{5}', '9876') else 'Invalid'"
      ]
    },
    {
      "cell_type": "markdown",
      "metadata": {
        "id": "fz7FRFbQIO79"
      },
      "source": [
        "### Predefined Character Classes"
      ]
    },
    {
      "cell_type": "markdown",
      "metadata": {
        "id": "ZTqbNDARIO79"
      },
      "source": [
        "| Character class\t| Matches\n",
        "| :------------\t| :------------\n",
        "| `\\d`\t| Any digit (0–9).\n",
        "| `\\D`\t| Any character that is _not_ a digit.\n",
        "| `\\s`\t| Any whitespace character (such as spaces, tabs and newlines).\n",
        "| `\\S`\t| Any character that is _not_ a whitespace character.\n",
        "| `\\w`\t| Any **word character** (also called an **alphanumeric character**)—that is, any uppercase or lowercase letter, any digit or an underscore\n",
        "| `\\W`\t| Any character that is _not_ a word character."
      ]
    },
    {
      "cell_type": "markdown",
      "metadata": {
        "id": "S7ldUbNZIO79"
      },
      "source": [
        "### Custom Character Classes Are Defined in `[]`\n",
        "* `[aeiou]` matches a lowercase vowel\n",
        "* `[A-Z]` matches an uppercase letter\n",
        "* `[a-z]` matches a lowercase letter\n",
        "* `[a-zA-Z]` matches any lowercase or uppercase letter."
      ]
    },
    {
      "cell_type": "markdown",
      "metadata": {
        "id": "HUrA3FnaIO79"
      },
      "source": [
        "### Quantifiers\n",
        "* **`*` quantifier** matches **zero or more occurrences** of the subexpression to its left (**`[a-z]`**)* **`+` quantifier** is like `*` but matches **at least one occurrence** of a subexpression.\n",
        "* **`?`** quantifier matches **zero or one occurrences** of a subexpression.\n",
        "* **`{n,}`** quantifier matches **at least _n_ occurrences** of a subexpression.\n",
        "* **`{n,m}`** quantifier matches **between *n* and _m_ (inclusive) occurrences** of a subexpression."
      ]
    },
    {
      "cell_type": "markdown",
      "metadata": {
        "id": "_4Q4BYTZIO79"
      },
      "source": [
        "## 8.12.2 Replacing Substrings and Splitting Strings"
      ]
    },
    {
      "cell_type": "markdown",
      "metadata": {
        "id": "W3ArpXz0IO79"
      },
      "source": [
        "### Function `sub`—Replacing **All** Occurrences of a Pattern\n",
        "* Three arguments&mdash;**pattern to match**, **replacement text** and **string to search**."
      ]
    },
    {
      "cell_type": "code",
      "execution_count": null,
      "metadata": {
        "id": "pH2tpaknIO79"
      },
      "outputs": [],
      "source": [
        "re.sub(r'\\t', ', ', '1\\t2\\t3\\t4')  # replace tabs with ', '"
      ]
    },
    {
      "cell_type": "markdown",
      "metadata": {
        "id": "jvRSihxwIO79"
      },
      "source": [
        "### Function `split`—Tokenizing a String Using a Regex to Specify the Delimiter"
      ]
    },
    {
      "cell_type": "code",
      "execution_count": null,
      "metadata": {
        "id": "N9nSleuQIO79"
      },
      "outputs": [],
      "source": [
        "# split at any number of whitespace characters\n",
        "re.split(r',\\s*', '1,  2,  3,4,    5,6,7,8')"
      ]
    },
    {
      "cell_type": "markdown",
      "metadata": {
        "id": "ySZWYUzvIO79"
      },
      "source": [
        "## 8.12.3 Other Search Functions; Accessing Matches"
      ]
    },
    {
      "cell_type": "markdown",
      "metadata": {
        "id": "m0GDGr6VIO7-"
      },
      "source": [
        "### Function `search`—Finding the First Match Anywhere in a String\n",
        "* Returns a **match object** (of type **`SRE_Match`**) that contains the matching substring.\n",
        "* The match object’s **`group`** method returns matching substring."
      ]
    },
    {
      "cell_type": "code",
      "execution_count": null,
      "metadata": {
        "id": "pvuybwKcIO7-"
      },
      "outputs": [],
      "source": [
        "result = re.search('Python', 'Python is fun')"
      ]
    },
    {
      "cell_type": "code",
      "execution_count": null,
      "metadata": {
        "id": "IGrHJvkMIO7-"
      },
      "outputs": [],
      "source": [
        "result.group() if result else 'not found'"
      ]
    },
    {
      "cell_type": "markdown",
      "metadata": {
        "id": "Fpg0MPNdIO7-"
      },
      "source": [
        "* Can search for a match only at the **beginning of a string** with function **`match`**.\n",
        "* `search` returns `None` if the string does **not** contain the pattern:"
      ]
    },
    {
      "cell_type": "code",
      "execution_count": null,
      "metadata": {
        "id": "cIAleUsPIO7-"
      },
      "outputs": [],
      "source": [
        "result2 = re.search('fun!', 'Python is fun')"
      ]
    },
    {
      "cell_type": "code",
      "execution_count": null,
      "metadata": {
        "id": "RO_YlBSLIO7-"
      },
      "outputs": [],
      "source": [
        "result2.group() if result2 else 'not found'"
      ]
    },
    {
      "cell_type": "markdown",
      "metadata": {
        "id": "NGtmijcQIO7-"
      },
      "source": [
        "### Ignoring Case with `flags=re.IGNORECASE`\n",
        "* Matches are **case sensitive** by default.\n",
        "* Many `re` module functions receive an **optional `flags` keyword argument** that changes how regular expressions are matched."
      ]
    },
    {
      "cell_type": "code",
      "execution_count": null,
      "metadata": {
        "id": "rGwsLSjeIO7-"
      },
      "outputs": [],
      "source": [
        "result3 = re.search('Sam', 'SAM WHITE', flags=re.IGNORECASE)"
      ]
    },
    {
      "cell_type": "code",
      "execution_count": null,
      "metadata": {
        "id": "F0ngd14BIO7-"
      },
      "outputs": [],
      "source": [
        "result3.group() if result3 else 'not found'"
      ]
    },
    {
      "cell_type": "markdown",
      "metadata": {
        "id": "1LvIhHaCIO7-"
      },
      "source": [
        "### Function `findall` Returns a List of Matching Substrings"
      ]
    },
    {
      "cell_type": "code",
      "execution_count": null,
      "metadata": {
        "id": "-6L9uYGbIO7-"
      },
      "outputs": [],
      "source": [
        "contact = 'Wally White, Home: 555-555-1234, Work: 555-555-4321'"
      ]
    },
    {
      "cell_type": "code",
      "execution_count": null,
      "metadata": {
        "id": "w0usoPmUIO7-"
      },
      "outputs": [],
      "source": [
        "re.findall(r'\\d{3}-\\d{3}-\\d{4}', contact)"
      ]
    },
    {
      "cell_type": "markdown",
      "metadata": {
        "id": "1tDOTU8LIO7_"
      },
      "source": [
        "### Function `finditer` Returns a **Lazy Iterable** of Match Objects\n",
        "* Can save memory over `findall` because it returns one match at a time."
      ]
    },
    {
      "cell_type": "code",
      "execution_count": null,
      "metadata": {
        "id": "I-zSkvxRIO7_"
      },
      "outputs": [],
      "source": [
        "for phone in re.finditer(r'\\d{3}-\\d{3}-\\d{4}', contact):\n",
        "    print(phone.group())"
      ]
    },
    {
      "cell_type": "markdown",
      "metadata": {
        "id": "lFkvZtAhIO7_"
      },
      "source": [
        "### More Info\n",
        "* See Lesson 8 in [**Python Fundamentals LiveLessons** here on O'Reilly Online Learning](https://learning.oreilly.com/videos/python-fundamentals/9780135917411)\n",
        "* See Chapter 8 in [**Python for Programmers** on O'Reilly Online Learning](https://learning.oreilly.com/library/view/python-for-programmers/9780135231364/)\n",
        "* Interested in a print book? Check out:\n",
        "\n",
        "| Python for Programmers | Intro to Python for Computer<br>Science and Data Science\n",
        "| :------ | :------\n",
        "| <a href=\"https://amzn.to/2VvdnxE\"><img alt=\"Python for Programmers cover\" src=\"../images/PyFPCover.png\" width=\"150\" border=\"1\"/></a> | <a href=\"https://amzn.to/2LiDCmt\"><img alt=\"Intro to Python for Computer Science and Data Science: Learning to Program with AI, Big Data and the Cloud\" src=\"../images/IntroToPythonCover.png\" width=\"159\" border=\"1\"></a>\n",
        "\n",
        ">Please **do not** purchase both books&mdash;_Python for Programmers_ is a subset of _Intro to Python for Computer Science and Data Science_"
      ]
    },
    {
      "cell_type": "markdown",
      "metadata": {
        "id": "JPOjxobxIO7_"
      },
      "source": [
        "&copy; 2022 by Pearson Education, Inc. All Rights Reserved. The content in this notebook is based on the book [**Python for Programmers**](https://amzn.to/2VvdnxE)."
      ]
    }
  ],
  "metadata": {
    "kernelspec": {
      "display_name": "Python 3 (ipykernel)",
      "language": "python",
      "name": "python3"
    },
    "language_info": {
      "codemirror_mode": {
        "name": "ipython",
        "version": 3
      },
      "file_extension": ".py",
      "mimetype": "text/x-python",
      "name": "python",
      "nbconvert_exporter": "python",
      "pygments_lexer": "ipython3",
      "version": "3.10.9"
    },
    "colab": {
      "provenance": [],
      "include_colab_link": true
    }
  },
  "nbformat": 4,
  "nbformat_minor": 0
}