{
  "cells": [
    {
      "cell_type": "markdown",
      "metadata": {
        "id": "view-in-github",
        "colab_type": "text"
      },
      "source": [
        "<a href=\"https://colab.research.google.com/github/mizzony/Data-Science--Cheat-Sheet/blob/master/Ch10.ipynb\" target=\"_parent\"><img src=\"https://colab.research.google.com/assets/colab-badge.svg\" alt=\"Open In Colab\"/></a>"
      ]
    },
    {
      "cell_type": "markdown",
      "metadata": {
        "id": "Igbxa1rPqZ43"
      },
      "source": [
        "&copy; 2022 by Pearson Education, Inc. All Rights Reserved. The content in this notebook is based on the book [**Python for Programmers**](https://amzn.to/2VvdnxE)."
      ]
    },
    {
      "cell_type": "markdown",
      "metadata": {
        "id": "GCCtAM0OqZ5E"
      },
      "source": [
        "### Python Fundamentals LiveLessons Videos\n",
        "* For a detailed presentation of the content in this notebook see **[Lesson 10](https://learning.oreilly.com/videos/python-fundamentals/9780135917411/9780135917411-PFLL_Lesson10_00)** on O'Reilly Online Learning"
      ]
    },
    {
      "cell_type": "markdown",
      "metadata": {
        "id": "kIS9qkQAqZ5E"
      },
      "source": [
        "# 10. Object-Oriented Programming\n",
        "* Note: Some sections reordered from our book for _Python Full Throttle_ presentation purposes.\n",
        "\n",
        "# 10.1 Introduction\n",
        "* Create and manipulate objects of **custom classes**.\n",
        "* Control **access** to attributes.\n",
        "* Python **special methods** for string representations of objects.\n",
        "* **Inherit** from existing classes.\n",
        "* **Class `object`**&mdash;the base class of the Python class hierarchy.\n",
        "* **Duck typing** and **polymorphism** for “programming in the general.”\n",
        "* **Overload operators** for use with custom classes.\n",
        "* Build **test cases** into docstrings and run these tests with `doctest`.\n",
        "* **Card-shuffling-and-dealing simulation**.\n",
        "* **Python 3.7’s new data classes** for building classes faster by using a more concise notation and by **autogenerating** portions of the classes."
      ]
    },
    {
      "cell_type": "markdown",
      "metadata": {
        "id": "vImyeYqgqZ5E"
      },
      "source": [
        "# 10.2 Custom Class `Account`\n",
        "* **`Account` class** holds an account holder’s name and balance.\n",
        "* `Account` accepts **deposits** that increase the balance (withdrawals not implemented)."
      ]
    },
    {
      "cell_type": "markdown",
      "metadata": {
        "id": "_rgLCahgqZ5F"
      },
      "source": [
        "## 10.2.1 Test-Driving Class Account\n"
      ]
    },
    {
      "cell_type": "markdown",
      "metadata": {
        "id": "9L-MfFxCqZ5F"
      },
      "source": [
        "### Class `Account` Maintains the Account Balance as a **`Decimal`**"
      ]
    },
    {
      "cell_type": "code",
      "execution_count": null,
      "metadata": {
        "id": "y5xtkjR9qZ5F"
      },
      "outputs": [],
      "source": [
        "from account import Account"
      ]
    },
    {
      "cell_type": "code",
      "execution_count": null,
      "metadata": {
        "id": "XSoAne5xqZ5F"
      },
      "outputs": [],
      "source": [
        "from decimal import Decimal"
      ]
    },
    {
      "cell_type": "markdown",
      "metadata": {
        "id": "x8nEUjSFqZ5F"
      },
      "source": [
        "### Creating an `Account` Object with a Constructor Expression"
      ]
    },
    {
      "cell_type": "code",
      "execution_count": null,
      "metadata": {
        "id": "uF4k_rSWqZ5G"
      },
      "outputs": [],
      "source": [
        "account1 = Account('John Green', Decimal('50.00'))"
      ]
    },
    {
      "cell_type": "markdown",
      "metadata": {
        "id": "fnsRs_0ZqZ5G"
      },
      "source": [
        "### Getting an `Account`’s Name and Balance Via Data Attributes"
      ]
    },
    {
      "cell_type": "code",
      "execution_count": null,
      "metadata": {
        "id": "IXzctLVOqZ5G"
      },
      "outputs": [],
      "source": [
        "account1.name"
      ]
    },
    {
      "cell_type": "code",
      "execution_count": null,
      "metadata": {
        "id": "d7qpS_ZyqZ5G"
      },
      "outputs": [],
      "source": [
        "account1.balance"
      ]
    },
    {
      "cell_type": "markdown",
      "metadata": {
        "id": "Ih7ld4aaqZ5G"
      },
      "source": [
        "### Depositing Money into an `Account` with Method `deposit`"
      ]
    },
    {
      "cell_type": "code",
      "execution_count": null,
      "metadata": {
        "id": "ylY4gpPnqZ5G"
      },
      "outputs": [],
      "source": [
        "account1.deposit(Decimal('25.53'))"
      ]
    },
    {
      "cell_type": "code",
      "execution_count": null,
      "metadata": {
        "id": "lFKbKxwcqZ5G"
      },
      "outputs": [],
      "source": [
        "account1.balance"
      ]
    },
    {
      "cell_type": "code",
      "execution_count": null,
      "metadata": {
        "id": "RAW2JTfdqZ5G"
      },
      "outputs": [],
      "source": [
        "account1.deposit(Decimal('-123.45'))  # invalid deposit"
      ]
    },
    {
      "cell_type": "markdown",
      "metadata": {
        "id": "xBBJNswPqZ5G"
      },
      "source": [
        "## 10.2.2 `Account` Class Definition\n",
        "* A class's **docstring** **must** begin in the line immediately following the **class header**.\n",
        "* See `account.py` in the ch10 folder."
      ]
    },
    {
      "cell_type": "markdown",
      "metadata": {
        "id": "hZq3wXgUqZ5G"
      },
      "source": [
        "### Accessing a Class's Docstring Using the IPython Help Mechanism"
      ]
    },
    {
      "cell_type": "code",
      "execution_count": null,
      "metadata": {
        "id": "sGG9Yy3cqZ5G"
      },
      "outputs": [],
      "source": [
        "Account?"
      ]
    },
    {
      "cell_type": "markdown",
      "metadata": {
        "id": "IkGKeiQhqZ5G"
      },
      "source": [
        "### Initializing Account Objects: Method `__init__`\n",
        "* `TypeError` if `__init__` returns anything other than `None` (the **default**)."
      ]
    },
    {
      "cell_type": "markdown",
      "metadata": {
        "id": "Co-Bv5IUqZ5G"
      },
      "source": [
        "### `self` Parameter in Instance Methods\n",
        "* **All instance methods must specify at least one parameter**&mdash;named **`self`** by convention.\n",
        "* **Instance methods** use **`self`** to access the object’s instance attributes and methods."
      ]
    },
    {
      "cell_type": "markdown",
      "metadata": {
        "id": "oYJNA8QjqZ5H"
      },
      "source": [
        "### Special Methods\n",
        "* Python class **`object`** defines the [special methods](https://docs.python.org/3/reference/datamodel.html#special-method-names) like `__init__` that are available for **all** Python objects."
      ]
    },
    {
      "cell_type": "markdown",
      "metadata": {
        "id": "W3LXsmnDqZ5H"
      },
      "source": [
        "# 10.3 Controlling Access to Attributes\n",
        "* Class `Account`’s methods ensure that the `balance` is **always** greater than or equal to `0.00`.\n",
        "* But, you **can still modify** attributes `name` and `balance` directly, **possibly introducing invalid data**.\n",
        "* Python tutorial: “**Nothing in Python makes it possible to enforce data hiding—it is all based upon convention.**”"
      ]
    },
    {
      "cell_type": "code",
      "execution_count": null,
      "metadata": {
        "id": "n2vf8i5zqZ5H"
      },
      "outputs": [],
      "source": [
        "account1 = Account('John Green', Decimal('50.00'))"
      ]
    },
    {
      "cell_type": "code",
      "execution_count": null,
      "metadata": {
        "id": "GhVQWbS5qZ5H"
      },
      "outputs": [],
      "source": [
        "account1.balance"
      ]
    },
    {
      "cell_type": "code",
      "execution_count": null,
      "metadata": {
        "id": "tLj0i64bqZ5H"
      },
      "outputs": [],
      "source": [
        "account1.balance = Decimal('-1000.00')  # invalid value"
      ]
    },
    {
      "cell_type": "code",
      "execution_count": null,
      "metadata": {
        "id": "GYp7G2WWqZ5H"
      },
      "outputs": [],
      "source": [
        "account1.balance"
      ]
    },
    {
      "cell_type": "code",
      "execution_count": null,
      "metadata": {
        "id": "3666dXVpqZ5H"
      },
      "outputs": [],
      "source": [
        "account1.balance = \"hello\""
      ]
    },
    {
      "cell_type": "code",
      "execution_count": null,
      "metadata": {
        "id": "9Ce99vGSqZ5H"
      },
      "outputs": [],
      "source": [
        "account1.balance"
      ]
    },
    {
      "cell_type": "markdown",
      "metadata": {
        "id": "ck5UnwTYqZ5H"
      },
      "source": [
        "# 10.4 `Time` Class with Properties for Data Access\n",
        "* **Properties** can control the manner in which they get and modify an object’s data&mdash;**assuming programmers follow conventions**.\n",
        "* For robust date and time manipulation capabilities, see Python's [**datetime** module]( https://docs.python.org/3/library/datetime.html)"
      ]
    },
    {
      "cell_type": "markdown",
      "metadata": {
        "id": "uncJC6mzqZ5H"
      },
      "source": [
        "## 10.4.1 Test-Driving Class `Time` (Defined in `timewithproperties.py`)"
      ]
    },
    {
      "cell_type": "markdown",
      "metadata": {
        "id": "8FP_RepTqZ5H"
      },
      "source": [
        "### Creating a `Time` Object"
      ]
    },
    {
      "cell_type": "code",
      "execution_count": null,
      "metadata": {
        "tags": [],
        "id": "gaLQSIzqqZ5H"
      },
      "outputs": [],
      "source": [
        "from timewithproperties import Time"
      ]
    },
    {
      "cell_type": "code",
      "execution_count": null,
      "metadata": {
        "id": "X4j588-cqZ5H"
      },
      "outputs": [],
      "source": [
        "wake_up = Time(hour=6, minute=30)  # second defaults to 0"
      ]
    },
    {
      "cell_type": "markdown",
      "metadata": {
        "id": "i2PSXikvqZ5H"
      },
      "source": [
        "### `Time` Object String Representation with `__repr__`\n",
        "* Called when you pass an object to **built-in function `repr`**—this is implicit **when you evaluate a variable in an IPython session**.\n",
        "* Python docs: `__repr__` returns **the “official” string representation of the object**.\n",
        "* Typically looks like a constructor expression."
      ]
    },
    {
      "cell_type": "code",
      "execution_count": null,
      "metadata": {
        "id": "QBEiqXpKqZ5H"
      },
      "outputs": [],
      "source": [
        "wake_up"
      ]
    },
    {
      "cell_type": "markdown",
      "metadata": {
        "id": "BmkzGIGbqZ5H"
      },
      "source": [
        "### `Time` Object String Representation with `__str__`\n",
        "* Called when you **convert an object to a string** with the built-in function `str`, `print` an object or insert an object into an f-string."
      ]
    },
    {
      "cell_type": "code",
      "execution_count": null,
      "metadata": {
        "id": "g0VQK6xvqZ5I"
      },
      "outputs": [],
      "source": [
        "print(wake_up)"
      ]
    },
    {
      "cell_type": "markdown",
      "metadata": {
        "id": "D4tOq4rbqZ5I"
      },
      "source": [
        "### Getting an Attribute Via a Property\n",
        "* Class time provides `hour`, `minute` and `second` **properties**.\n",
        "* **Properties are implemented as methods**, so they may contain logic (e.g., **validation**, **formatting**)."
      ]
    },
    {
      "cell_type": "code",
      "execution_count": null,
      "metadata": {
        "id": "I7DRtWb7qZ5I"
      },
      "outputs": [],
      "source": [
        "wake_up.hour  # calls the hour property's getter method"
      ]
    },
    {
      "cell_type": "markdown",
      "metadata": {
        "id": "doEu6QbMqZ5I"
      },
      "source": [
        "### Setting the `Time` with Method `set_time`\n",
        "* Method `set_time` has default argument values and uses 0 for the `second` by default."
      ]
    },
    {
      "cell_type": "code",
      "execution_count": null,
      "metadata": {
        "id": "bTMEyC0MqZ5I"
      },
      "outputs": [],
      "source": [
        "wake_up.set_time(hour=7, minute=45)"
      ]
    },
    {
      "cell_type": "code",
      "execution_count": null,
      "metadata": {
        "id": "rqinuGquqZ5I"
      },
      "outputs": [],
      "source": [
        "wake_up"
      ]
    },
    {
      "cell_type": "markdown",
      "metadata": {
        "id": "1hiQoHbdqZ5I"
      },
      "source": [
        "### Setting an Attribute via a Property\n"
      ]
    },
    {
      "cell_type": "markdown",
      "metadata": {
        "id": "bMljkfWlqZ5I"
      },
      "source": [
        "* This calls an `hour` method that takes `6` as an argument."
      ]
    },
    {
      "cell_type": "code",
      "execution_count": null,
      "metadata": {
        "id": "EpRGHkAnqZ5I"
      },
      "outputs": [],
      "source": [
        "wake_up.hour = 6"
      ]
    },
    {
      "cell_type": "code",
      "execution_count": null,
      "metadata": {
        "id": "0T1Lx2lGqZ5I"
      },
      "outputs": [],
      "source": [
        "print(wake_up)"
      ]
    },
    {
      "cell_type": "code",
      "execution_count": null,
      "metadata": {
        "id": "SJmHprl7qZ5I"
      },
      "outputs": [],
      "source": [
        "wake_up"
      ]
    },
    {
      "cell_type": "markdown",
      "metadata": {
        "id": "SENvJ1stqZ5I"
      },
      "source": [
        "### Attempting to Set an Invalid `hour` Value"
      ]
    },
    {
      "cell_type": "code",
      "execution_count": null,
      "metadata": {
        "tags": [],
        "id": "fqYvhnglqZ5J"
      },
      "outputs": [],
      "source": [
        "wake_up.hour = 100"
      ]
    },
    {
      "cell_type": "markdown",
      "metadata": {
        "id": "ynaJMDLDqZ5J"
      },
      "source": [
        "## 10.4.2 Class `Time` Definition"
      ]
    },
    {
      "cell_type": "markdown",
      "metadata": {
        "id": "N8yvJqWlqZ5J"
      },
      "source": [
        "### Leading Underscore (`_`) Naming Convention\n",
        "* **Python does not have private data**.\n",
        "* You use **naming conventions** to design classes that encourage correct use.\n",
        "* Convention: Any attribute name beginning with an **underscore (`_`)** is for a class’s **private internal use only**.\n",
        "* Identifiers that do **not** begin with an underscore (`_`) are **publicly accessible**.\n",
        "* Even when we use these conventions, **attributes are always accessible**.\n",
        "* See `timewithproperties.py` in the ch10 folder."
      ]
    },
    {
      "cell_type": "markdown",
      "metadata": {
        "id": "zVq9Ex9EqZ5J"
      },
      "source": [
        "### IPython Auto-Completion Shows Only “Public” Attributes\n",
        "* IPython shows only \"public\" attributes when you try to **_Tab_ auto-complete** an expression.\n",
        "\n",
        "<!-- %config Completer.use_jedi = False # fix an autocompletion problem -->"
      ]
    },
    {
      "cell_type": "code",
      "execution_count": null,
      "metadata": {
        "id": "wjqcX0yvqZ5J"
      },
      "outputs": [],
      "source": [
        "wake_up.hour = 10"
      ]
    },
    {
      "cell_type": "code",
      "execution_count": null,
      "metadata": {
        "id": "TtSoI8ihqZ5J"
      },
      "outputs": [],
      "source": [
        "print(wake_up)"
      ]
    },
    {
      "cell_type": "markdown",
      "metadata": {
        "id": "E8RQQDb1qZ5J"
      },
      "source": [
        "# 10.5 Simulating “Private” Attributes\n",
        "* Convention: **Two leading underscores** for **“private” attributes**.\n",
        "* “Private” attributes names are **mangled**&mdash;Python inserts **\\_ClassName** before the attribute name (e.g., `_Time__hour`).\n",
        "* Assigning to a **“private” attribute** raises an `AttributeError`.\n",
        "* **Client code can still use the well-known mangled name to access the attribute**."
      ]
    },
    {
      "cell_type": "markdown",
      "metadata": {
        "id": "rDzWWaZnqZ5J"
      },
      "source": [
        "### Demonstrating “Private” Attributes\n",
        "Class `PrivateClass` has one **“public” data attribute** `public_data` and one **“private” data attribute** `__private_data`\n",
        "```python\n",
        "# private.py\n",
        "\"\"\"Class with public and private attributes.\"\"\"\n",
        "\n",
        "class PrivateClass:\n",
        "    \"\"\"Class with public and private attributes.\"\"\"\n",
        "\n",
        "    def __init__(self):\n",
        "        \"\"\"Initialize the public and private attributes.\"\"\"\n",
        "        self.public_data = \"public\"  # public attribute\n",
        "        self.__private_data = \"private\"  # private attribute\n",
        "\n",
        "```"
      ]
    },
    {
      "cell_type": "code",
      "execution_count": null,
      "metadata": {
        "id": "toi5eEV1qZ5J"
      },
      "outputs": [],
      "source": [
        "from private import PrivateClass"
      ]
    },
    {
      "cell_type": "code",
      "execution_count": null,
      "metadata": {
        "id": "eWPaXQnfqZ5J"
      },
      "outputs": [],
      "source": [
        "my_object = PrivateClass()"
      ]
    },
    {
      "cell_type": "code",
      "execution_count": null,
      "metadata": {
        "id": "RvVAUSV9qZ5J"
      },
      "outputs": [],
      "source": [
        "my_object."
      ]
    },
    {
      "cell_type": "code",
      "execution_count": null,
      "metadata": {
        "id": "z4EcMQlIqZ5J"
      },
      "outputs": [],
      "source": [
        "# change __private_data to _PrivateClass__private_data and see what happens\n",
        "my_object."
      ]
    },
    {
      "cell_type": "markdown",
      "metadata": {
        "id": "07sMzUzeqZ5J"
      },
      "source": [
        "# 10.7 Inheritance: Base Classes and Subclasses\n",
        "\n",
        "### “is a” vs. “has a”\n",
        "* Inheritance produces **“is-a” relationships**&mdash;an object of a **subclass type** may also be treated as an object of the **base-class type**.\n",
        "* Every prior class used **“has-a” relationships (composition)**&mdash;each class has **references** to one or more objects of other classes as members."
      ]
    },
    {
      "cell_type": "markdown",
      "metadata": {
        "id": "xXfbQWjeqZ5J"
      },
      "source": [
        "# 10.8 Building an Inheritance Hierarchy; Introducing Polymorphism\n",
        "* Simple payroll app to show relationship between a **base class** and its **subclass**.\n",
        "    * Base class **`CommissionEmployee`** represents employees who are paid a percentage of their sales.\n",
        "    * Subclass **`SalariedCommissionEmployee`** represents employees who receive a percentage of their sales **plus** a base salary."
      ]
    },
    {
      "cell_type": "markdown",
      "metadata": {
        "id": "klYjAin5qZ5K"
      },
      "source": [
        "## 10.8.1 Base Class `CommissionEmployee`\n",
        "* See `commmissionemployee.py` in the ch10 folder."
      ]
    },
    {
      "cell_type": "markdown",
      "metadata": {
        "id": "JMWVmElmqZ5K"
      },
      "source": [
        "### All Classes Inherit Directly or Indirectly from Class `object`\n",
        "* If not specified, Python assumes **base class `object`**&mdash;the direct or indirect base class of **every** class.\n",
        "* Class `CommissionEmployee`’s header could be\n",
        ">```python\n",
        "class CommissionEmployee(object):\n",
        "```\n",
        "* **Single inheritance**: One class in the parentheses.\n",
        "* **Multiple inheritance**: Comma-separated list of classes in parentheses.\n",
        "* Two of the many methods inherited from `object` are `__repr__` and `__str__`."
      ]
    },
    {
      "cell_type": "markdown",
      "metadata": {
        "id": "u5gmRsVrqZ5K"
      },
      "source": [
        "### Testing Class `CommissionEmployee`  "
      ]
    },
    {
      "cell_type": "code",
      "execution_count": null,
      "metadata": {
        "id": "kVMdp4-oqZ5K"
      },
      "outputs": [],
      "source": [
        "from commissionemployee import CommissionEmployee"
      ]
    },
    {
      "cell_type": "code",
      "execution_count": null,
      "metadata": {
        "id": "8LwvVwmMqZ5K"
      },
      "outputs": [],
      "source": [
        "from decimal import Decimal"
      ]
    },
    {
      "cell_type": "code",
      "execution_count": null,
      "metadata": {
        "id": "jAWue56LqZ5K"
      },
      "outputs": [],
      "source": [
        "c = CommissionEmployee('Sue Jones', Decimal('10000.00'), Decimal('0.06'))"
      ]
    },
    {
      "cell_type": "code",
      "execution_count": null,
      "metadata": {
        "id": "rjwt6--dqZ5K"
      },
      "outputs": [],
      "source": [
        "c"
      ]
    },
    {
      "cell_type": "code",
      "execution_count": null,
      "metadata": {
        "id": "BR1AJJPeqZ5K"
      },
      "outputs": [],
      "source": [
        "print(c)"
      ]
    },
    {
      "cell_type": "code",
      "execution_count": null,
      "metadata": {
        "id": "BnrhWUMrqZ5K"
      },
      "outputs": [],
      "source": [
        "print(f'{c.earnings():,.2f}')"
      ]
    },
    {
      "cell_type": "markdown",
      "metadata": {
        "id": "jYyvHd2oqZ5K"
      },
      "source": [
        "## 10.8.2 Subclass `SalariedCommissionEmployee`\n",
        "* A `SalariedCommissionEmployee` **is a** `CommissionEmployee` that also has the following features:\n",
        "    * **Method `__init__`** initializes all the data inherited from class `CommissionEmployee`, then uses the `base_salary` property’s `setter` to create and initialize a `_base_salary` data attribute.\n",
        "    * **Read-write property `base_salary`**, which performs validation.\n",
        "    * An overridden **`earnings` method**.\n",
        "    * An overridden **`__repr__` method**.\n",
        "* See `salariedcommissionemployee.py` in the ch10 folder"
      ]
    },
    {
      "cell_type": "markdown",
      "metadata": {
        "id": "Y1slNzdmqZ5K"
      },
      "source": [
        "### Method `__init__` and Built-In Function `super`\n",
        "* Each subclass `__init__` **must explicitly call its base class’s `__init__`** to initialize the data attributes inherited from the base class."
      ]
    },
    {
      "cell_type": "markdown",
      "metadata": {
        "id": "i14zQyHEqZ5K"
      },
      "source": [
        "### Testing Class `SalariedCommissionEmployee`"
      ]
    },
    {
      "cell_type": "code",
      "execution_count": null,
      "metadata": {
        "id": "AaFUAN_yqZ5K"
      },
      "outputs": [],
      "source": [
        "from salariedcommissionemployee import SalariedCommissionEmployee"
      ]
    },
    {
      "cell_type": "code",
      "execution_count": null,
      "metadata": {
        "id": "1CJXy9lwqZ5K"
      },
      "outputs": [],
      "source": [
        "s = SalariedCommissionEmployee(\n",
        "       'Bob Lewis', Decimal('5000.00'), Decimal('0.04'), Decimal('300.00'))"
      ]
    },
    {
      "cell_type": "code",
      "execution_count": null,
      "metadata": {
        "id": "0H7lYgQaqZ5L"
      },
      "outputs": [],
      "source": [
        "print(s.name, s.gross_sales, s.commission_rate, s.base_salary, sep='\\n')"
      ]
    },
    {
      "cell_type": "code",
      "execution_count": null,
      "metadata": {
        "id": "XpQzLF-4qZ5L"
      },
      "outputs": [],
      "source": [
        "print(f'{s.earnings():,.2f}')"
      ]
    },
    {
      "cell_type": "code",
      "execution_count": null,
      "metadata": {
        "id": "Y6InHOMFqZ5L"
      },
      "outputs": [],
      "source": [
        "s"
      ]
    },
    {
      "cell_type": "markdown",
      "metadata": {
        "id": "CyAtIhZzqZ5L"
      },
      "source": [
        "## 10.8.3 Processing `CommissionEmployee`s and `SalariedCommissionEmployee`s Polymorphically\n"
      ]
    },
    {
      "cell_type": "code",
      "execution_count": null,
      "metadata": {
        "id": "fVYudzwlqZ5L"
      },
      "outputs": [],
      "source": [
        "employees = [c, s]"
      ]
    },
    {
      "cell_type": "code",
      "execution_count": null,
      "metadata": {
        "id": "UzZK6zFYqZ5L"
      },
      "outputs": [],
      "source": [
        "for employee in employees:\n",
        "    print(employee)\n",
        "    print(f'{employee.earnings():,.2f}\\n')"
      ]
    },
    {
      "cell_type": "markdown",
      "metadata": {
        "id": "J8YMyulmqZ5L"
      },
      "source": [
        "# 10.9 Duck Typing and Polymorphism\n",
        "* Other languages require inheritance-based “is a” relationships for polymorphic behavior.\n",
        "* Python has **duck typing**&mdash;“If it looks like a duck and quacks like a duck, it must be a duck.”\n",
        "* As long as an object has the data attribute, property or method (with the appropriate parameters) you wish to access, the code will work."
      ]
    },
    {
      "cell_type": "markdown",
      "metadata": {
        "id": "GPLT5JTKqZ5L"
      },
      "source": [
        "### Class `WellPaidDuck`"
      ]
    },
    {
      "cell_type": "code",
      "execution_count": null,
      "metadata": {
        "id": "XPRXJCGKqZ5L"
      },
      "outputs": [],
      "source": [
        "class WellPaidDuck:\n",
        "    def __repr__(self):\n",
        "        return 'I am a well-paid duck'\n",
        "    def earnings(self):\n",
        "        return Decimal('1_000_000.00')"
      ]
    },
    {
      "cell_type": "code",
      "execution_count": null,
      "metadata": {
        "id": "8eGFlnC1qZ5L"
      },
      "outputs": [],
      "source": [
        "d = WellPaidDuck()"
      ]
    },
    {
      "cell_type": "code",
      "execution_count": null,
      "metadata": {
        "id": "5NIAwbRnqZ5L"
      },
      "outputs": [],
      "source": [
        "employees = [c, s, d] # c and s reused from earlier in this notebook"
      ]
    },
    {
      "cell_type": "code",
      "execution_count": null,
      "metadata": {
        "id": "qtH7aL07qZ5L"
      },
      "outputs": [],
      "source": [
        "for employee in employees:\n",
        "    print(employee)\n",
        "    print(f'{employee.earnings():,.2f}\\n')"
      ]
    },
    {
      "cell_type": "markdown",
      "metadata": {
        "id": "ugPLBWcMqZ5L"
      },
      "source": [
        "# 10.10 Operator Overloading\n",
        "* Use **operator overloading** to define operators for your own types.\n",
        "* For each overloadable operator, class `object` defines an overridable [special method](https://docs.python.org/3/reference/datamodel.html#special-method-names)."
      ]
    },
    {
      "cell_type": "markdown",
      "metadata": {
        "id": "3N1PDsj8qZ5L"
      },
      "source": [
        "### Operator Overloading Restrictions\n",
        "* **Cannot change**\n",
        "    * **Precedence**\n",
        "    * **Left-to-right** or **right-to-left grouping**\n",
        "    * **“Arity”** of an operator (whether it's unary or binary)\n",
        "    * **How an operator works for built-in types**\n",
        "* **Cannot create new operators**\n"
      ]
    },
    {
      "cell_type": "markdown",
      "metadata": {
        "id": "Ds0ew5sCqZ5L"
      },
      "source": [
        "### Complex Numbers\n",
        "* Complex numbers, like –3 + 4i and 6.2 – 11.73i, have the form\n",
        "```python\n",
        "realPart + imaginaryPart * i\n",
        "```\n",
        "where `i` is the square root of -1."
      ]
    },
    {
      "cell_type": "markdown",
      "metadata": {
        "id": "Ggpq-3gLqZ5M"
      },
      "source": [
        "## 10.10.1 Test-Driving Class `Complex`"
      ]
    },
    {
      "cell_type": "code",
      "execution_count": null,
      "metadata": {
        "tags": [],
        "id": "D2cddjgQqZ5M"
      },
      "outputs": [],
      "source": [
        "from complexnumber import Complex"
      ]
    },
    {
      "cell_type": "code",
      "execution_count": null,
      "metadata": {
        "id": "hk9YJcEHqZ5M"
      },
      "outputs": [],
      "source": [
        "x = Complex(real=2, imaginary=4)"
      ]
    },
    {
      "cell_type": "code",
      "execution_count": null,
      "metadata": {
        "id": "Gmepvh27qZ5M"
      },
      "outputs": [],
      "source": [
        "x"
      ]
    },
    {
      "cell_type": "code",
      "execution_count": null,
      "metadata": {
        "id": "Wq3J7F5xqZ5M"
      },
      "outputs": [],
      "source": [
        "y = Complex(real=5, imaginary=-1)"
      ]
    },
    {
      "cell_type": "code",
      "execution_count": null,
      "metadata": {
        "id": "wVe4en_JqZ5M"
      },
      "outputs": [],
      "source": [
        "y"
      ]
    },
    {
      "cell_type": "markdown",
      "metadata": {
        "id": "BVAAVtynqZ5M"
      },
      "source": [
        "### Adding `Complex` Objects with Overloaded `+` Operator\n",
        "* The `+` operator should not modify its operands."
      ]
    },
    {
      "cell_type": "code",
      "execution_count": null,
      "metadata": {
        "id": "3YCaWWjbqZ5M"
      },
      "outputs": [],
      "source": [
        "x + y"
      ]
    },
    {
      "cell_type": "code",
      "execution_count": null,
      "metadata": {
        "id": "3SMHAqJ8qZ5M"
      },
      "outputs": [],
      "source": [
        "x"
      ]
    },
    {
      "cell_type": "code",
      "execution_count": null,
      "metadata": {
        "id": "DYDunUofqZ5M"
      },
      "outputs": [],
      "source": [
        "y"
      ]
    },
    {
      "cell_type": "markdown",
      "metadata": {
        "id": "MDXdQchBqZ5M"
      },
      "source": [
        "## 10.10.2 Class `Complex` Definition\n",
        "* Overloaded binary operators **must provide two parameters**—by default, the **first** (`self`) is the **left** operand and the **second** (`right`) is the **right** operand.\n",
        "* **`__add__`** overloads `+` with the class object on the **left** passed as the **`self`** parameter (e.g., x + 7).\n",
        "* **`__radd__`** overloads `+` with the class object on the **right** passed as the **`self`** parameter (e.g., 7 + x)\n",
        "* Augmented assignment method names begin with **`i`**, as in **`__iadd__`**.\n",
        "* See `complexnumber.py` in the ch10 folder."
      ]
    },
    {
      "cell_type": "markdown",
      "metadata": {
        "id": "cnNTfy74qZ5M"
      },
      "source": [
        "# 10.11 Exception Class Hierarchy and Custom Exceptions\n",
        "* Exception classes inherit directly or indirectly from base class **`BaseException`** and are defined in **module `exceptions`**.\n",
        "* **`Exception`** is the base class for most common exceptions.\n",
        "* Use existing exception types if possible, but you can create your own via inheritance.\n",
        "* [Built-in exceptions documentation](https://docs.python.org/3/library/exceptions.html)."
      ]
    },
    {
      "cell_type": "markdown",
      "metadata": {
        "id": "JGW0prd0qZ5M"
      },
      "source": [
        "# 10.14 Unit Testing with Docstrings and `doctest`"
      ]
    },
    {
      "cell_type": "markdown",
      "metadata": {
        "id": "QkMqp-QpqZ5M"
      },
      "source": [
        "### Module `doctest` and the `testmod` Function\n",
        "* The **`doctest` module** executes **unit tests** embedded in **docstrings**.\n",
        "* The module’s **`testmod` function** inspects your **docstrings** looking for **sample Python statements preceded by `>>>`**, each followed on the next line by the given statement’s **expected output** (if any).\n",
        "* **`testmod`** executes those statements, confirms that they **produce the expected output** and **reports failed tests** so you can locate and fix the problems in your code."
      ]
    },
    {
      "cell_type": "markdown",
      "metadata": {
        "id": "-wSF8lQaqZ5M"
      },
      "source": [
        "### Modified `Account` Class (`accountdoctest.py`)\n",
        "* See `accountdoctest.py` in the ch10 folder."
      ]
    },
    {
      "cell_type": "markdown",
      "metadata": {
        "id": "dsy35UQjqZ5M"
      },
      "source": [
        "### Module `'__main__'` and Running Tests\n",
        "* When you load a module, Python assigns the module’s name to the **module's global attribute `__name__`**\n",
        "* Python uses the module name **`'__main__'`** if you execute a `.py` file as a **script**.\n",
        "* Run the file `accountdoctest.py` as a script to execute the tests."
      ]
    },
    {
      "cell_type": "code",
      "execution_count": null,
      "metadata": {
        "id": "bL1DT38RqZ5M"
      },
      "outputs": [],
      "source": [
        "run accountdoctest.py"
      ]
    },
    {
      "cell_type": "markdown",
      "metadata": {
        "id": "jOFIIuHNqZ5N"
      },
      "source": [
        "### Demonstrating a _Failed_ Test\n",
        "* In `accountdoctest2.py` we **commented out the `if` statement in method `__init__`** to demonstrate a failed test."
      ]
    },
    {
      "cell_type": "code",
      "execution_count": null,
      "metadata": {
        "id": "FY3H5d3GqZ5N"
      },
      "outputs": [],
      "source": [
        "run accountdoctest2.py"
      ]
    },
    {
      "cell_type": "markdown",
      "metadata": {
        "id": "sxyOlpkoqZ5N"
      },
      "source": [
        "### IPython `%doctest_mode` Magic\n",
        "* A convenient way to **create doctests for existing code** is to use an IPython interactive session to test your code, then copy and paste that session into a docstring.\n",
        "* IPython’s `In` `[]` and `Out[]` prompts are not compatible with `doctest`.\n",
        "* IPython provides the magic **`%doctest_mode`** to display prompts in the **`>>>`** format.\n",
        "* The magic toggles between the two prompt styles.\n"
      ]
    },
    {
      "cell_type": "markdown",
      "metadata": {
        "id": "k78trpjjqZ5N"
      },
      "source": [
        "# 10.6 Case Study: Card Shuffling and Dealing Simulation\n",
        "* **Class `Card`** represents a **playing card** that has a **face** and a **suit**.\n",
        "* **Class `DeckOfCards`** represents a **deck of 52 playing cards** as a **list of `Card` objects**."
      ]
    },
    {
      "cell_type": "markdown",
      "metadata": {
        "id": "x6i5VujyqZ5N"
      },
      "source": [
        "## 10.6.1 Test-Driving Classes Card and `DeckOfCards`"
      ]
    },
    {
      "cell_type": "markdown",
      "metadata": {
        "id": "zb30chSsqZ5N"
      },
      "source": [
        "### Creating, Shuffling and Dealing the Cards"
      ]
    },
    {
      "cell_type": "code",
      "execution_count": null,
      "metadata": {
        "id": "kmdw_4abqZ5N"
      },
      "outputs": [],
      "source": [
        "from deck import DeckOfCards"
      ]
    },
    {
      "cell_type": "code",
      "execution_count": null,
      "metadata": {
        "id": "lRHJSz0rqZ5N"
      },
      "outputs": [],
      "source": [
        "deck_of_cards = DeckOfCards()"
      ]
    },
    {
      "cell_type": "code",
      "execution_count": null,
      "metadata": {
        "id": "6HpAJAJxqZ5N"
      },
      "outputs": [],
      "source": [
        "print(deck_of_cards)  # calls DeckOfCards __str__ method"
      ]
    },
    {
      "cell_type": "code",
      "execution_count": null,
      "metadata": {
        "id": "GZzBbM2HqZ5N"
      },
      "outputs": [],
      "source": [
        "deck_of_cards.shuffle()"
      ]
    },
    {
      "cell_type": "code",
      "execution_count": null,
      "metadata": {
        "id": "KWgSYCKeqZ5N"
      },
      "outputs": [],
      "source": [
        "print(deck_of_cards)"
      ]
    },
    {
      "cell_type": "markdown",
      "metadata": {
        "id": "WlCqsUGZqZ5N"
      },
      "source": [
        "### Dealing Cards"
      ]
    },
    {
      "cell_type": "code",
      "execution_count": null,
      "metadata": {
        "id": "hKD_x5LgqZ5N"
      },
      "outputs": [],
      "source": [
        "deck_of_cards.deal_card()  # IPython calls the returned Card object’s __repr__ method"
      ]
    },
    {
      "cell_type": "markdown",
      "metadata": {
        "id": "h-gUtg5KqZ5N"
      },
      "source": [
        "### Class `Card`’s Other Features"
      ]
    },
    {
      "cell_type": "code",
      "execution_count": null,
      "metadata": {
        "id": "AlJVE97wqZ5N"
      },
      "outputs": [],
      "source": [
        "card = deck_of_cards.deal_card()"
      ]
    },
    {
      "cell_type": "code",
      "execution_count": null,
      "metadata": {
        "id": "jIsNS5KTqZ5N"
      },
      "outputs": [],
      "source": [
        "str(card)  # calls Card's __str__ method"
      ]
    },
    {
      "cell_type": "markdown",
      "metadata": {
        "id": "KpjED0MbqZ5O"
      },
      "source": [
        "* Each `Card` has a corresponding **image file name** that we'll use to **display card images** later."
      ]
    },
    {
      "cell_type": "code",
      "execution_count": null,
      "metadata": {
        "tags": [],
        "id": "C-PzOXL-qZ5O"
      },
      "outputs": [],
      "source": [
        "card.image_name"
      ]
    },
    {
      "cell_type": "markdown",
      "metadata": {
        "id": "yLOSjbIDqZ5O"
      },
      "source": [
        "## 10.6.2 Class `Card`—Introducing Class Attributes\n",
        "* Create a **class attribute** by assigning a value to it inside the class’s definition, but not inside any of the class’s methods or properties.\n",
        "* **`FACES`** and **`SUITS`** are **\"constants\"** that are not meant to be modified.\n",
        "* Class attributes are **accessed through the class’s name**.\n",
        "* Class `Card`’s special method **`__format__`** is called when a `Card` object is **formatted** as a string&mdash;**such as when you insert it into an f-string placeholder**.\n",
        "\n",
        "See `card.py` in the ch10 folder."
      ]
    },
    {
      "cell_type": "markdown",
      "metadata": {
        "id": "2A8MIQSdqZ5O"
      },
      "source": [
        "## 10.6.3 Class `DeckOfCards`\n",
        "See `deck.py` in the ch10 folder."
      ]
    },
    {
      "cell_type": "markdown",
      "metadata": {
        "id": "IDummoJ8qZ5O"
      },
      "source": [
        "# 10.13 Python 3.7’s New Data Classes\n",
        "* **Data classes** (module **`dataclasses`**) help you build classes **faster** with more **concise notation**.\n",
        "* Can be **generated dynamically from a list of field names**, like what often is found in **a CSV file's first line**."
      ]
    },
    {
      "cell_type": "markdown",
      "metadata": {
        "id": "NKeQMkRSqZ5O"
      },
      "source": [
        "### Data Classes Autogenerate \"Boilerplate\" Code\n",
        "* **Autogenerate data attributes** and the **`__init__` and `__repr__` methods** for you.\n",
        "* **Autogenerate method `__eq__`**, which **overloads the `==` operator**.\n",
        "    * Any class with an **`__eq__` method** implicitly **supports `!=`**&mdash;**all classes inherit `object`’s default `__ne__` (not equals) method implementation**, which returns the opposite of `__eq__` (or `NotImplemented` if the class does not define `__eq__`).\n",
        "* Optionally, **generate methods** for the **`<`**, **`<=`**, **`>`** and **`>=`** comparison operators.\n",
        "* May contain **properties** and **methods**, and participate in class hierarchies.\n",
        "\n",
        "See `carddataclass.py` in the ch10 folder."
      ]
    },
    {
      "cell_type": "markdown",
      "metadata": {
        "id": "0Gtmp1u9qZ5O"
      },
      "source": [
        "### Using the `@dataclass` Decorator\n",
        "* The **decorator `@dataclass(order=True)`** causes the data class to **autogenerate overloaded `<`, `<=`, `>` and `>=` operators**.\n",
        "* This might be useful if you need to **sort your data-class objects**."
      ]
    },
    {
      "cell_type": "markdown",
      "metadata": {
        "id": "vDqyOaAqqZ5O"
      },
      "source": [
        "### Variable Annotations\n",
        "* **Data classes** declare both **class attributes** and **data attributes** inside the class, but **outside** the class’s methods.\n",
        "* Data classes require **variable annotations** to distinguish class attributes from data attributes.\n",
        "* **Variable annotations** also help a data class autogenerate its methods' implementation details."
      ]
    },
    {
      "cell_type": "markdown",
      "metadata": {
        "id": "GSOgHisCqZ5O"
      },
      "source": [
        "### Methods `__init__`, `__repr__` and `__eq__`\n",
        "* **Data classes** inspect the **variable annotations** and include only the **data attributes** in generated method implementations."
      ]
    },
    {
      "cell_type": "markdown",
      "metadata": {
        "id": "uDVwFBu1qZ5O"
      },
      "source": [
        "### Variable Annotation Notes\n",
        "* **Variable annotations** can use built-in types (like **`str`**, **`int`** and **`float`**), class types or types defined by the **`typing` module** (such as **`ClassVar`** and **`List`**).\n",
        "* **Type annotations are not enforced at execution time**.\n",
        "* `Card`’s `face` is meant to be a string, by you can assign it any type of object."
      ]
    },
    {
      "cell_type": "markdown",
      "metadata": {
        "id": "VIYVThFhqZ5O"
      },
      "source": [
        "## 10.13.2 Using the `Card` Data Class\n"
      ]
    },
    {
      "cell_type": "code",
      "execution_count": null,
      "metadata": {
        "id": "diPmLtj2qZ5O"
      },
      "outputs": [],
      "source": [
        "from carddataclass import Card"
      ]
    },
    {
      "cell_type": "code",
      "execution_count": null,
      "metadata": {
        "id": "nDC5YT3HqZ5O"
      },
      "outputs": [],
      "source": [
        "c1 = Card(Card.FACES[0], Card.SUITS[3])"
      ]
    },
    {
      "cell_type": "markdown",
      "metadata": {
        "id": "TQKWAV4iqZ5O"
      },
      "source": [
        "### Use `Card`’s Autogenerated `__repr__` Method"
      ]
    },
    {
      "cell_type": "code",
      "execution_count": null,
      "metadata": {
        "id": "cUtkd9PrqZ5O"
      },
      "outputs": [],
      "source": [
        "c1"
      ]
    },
    {
      "cell_type": "markdown",
      "metadata": {
        "id": "O5xA8suCqZ5O"
      },
      "source": [
        "### Use Custom `__str__` Method"
      ]
    },
    {
      "cell_type": "code",
      "execution_count": null,
      "metadata": {
        "id": "HG_p-b4GqZ5O"
      },
      "outputs": [],
      "source": [
        "print(c1)"
      ]
    },
    {
      "cell_type": "markdown",
      "metadata": {
        "id": "hPc_D7YOqZ5P"
      },
      "source": [
        "### Access the Data Class’s Attributes and Read-Only Property"
      ]
    },
    {
      "cell_type": "code",
      "execution_count": null,
      "metadata": {
        "id": "qh5WtWh6qZ5P"
      },
      "outputs": [],
      "source": [
        "c1.face"
      ]
    },
    {
      "cell_type": "code",
      "execution_count": null,
      "metadata": {
        "id": "8Jx72yh1qZ5P"
      },
      "outputs": [],
      "source": [
        "c1.suit"
      ]
    },
    {
      "cell_type": "code",
      "execution_count": null,
      "metadata": {
        "id": "4O3WaJ2xqZ5P"
      },
      "outputs": [],
      "source": [
        "c1.image_name"
      ]
    },
    {
      "cell_type": "markdown",
      "metadata": {
        "id": "PthU-X7RqZ5P"
      },
      "source": [
        "### Compare `Card`s via the Autogenerated `==` Operator and Inherited `!=` Operator"
      ]
    },
    {
      "cell_type": "code",
      "execution_count": null,
      "metadata": {
        "id": "T68Sj4mIqZ5P"
      },
      "outputs": [],
      "source": [
        "c2 = Card(Card.FACES[0], Card.SUITS[3])"
      ]
    },
    {
      "cell_type": "code",
      "execution_count": null,
      "metadata": {
        "id": "xA5onQEqqZ5P"
      },
      "outputs": [],
      "source": [
        "c2"
      ]
    },
    {
      "cell_type": "code",
      "execution_count": null,
      "metadata": {
        "id": "5WqWbdcEqZ5P"
      },
      "outputs": [],
      "source": [
        "c3 = Card(Card.FACES[0], Card.SUITS[0])"
      ]
    },
    {
      "cell_type": "code",
      "execution_count": null,
      "metadata": {
        "id": "WksbdRpDqZ5P"
      },
      "outputs": [],
      "source": [
        "c3"
      ]
    },
    {
      "cell_type": "code",
      "execution_count": null,
      "metadata": {
        "id": "CQ538OAdqZ5P"
      },
      "outputs": [],
      "source": [
        "c1 == c2"
      ]
    },
    {
      "cell_type": "code",
      "execution_count": null,
      "metadata": {
        "id": "qEi2Xds4qZ5P"
      },
      "outputs": [],
      "source": [
        "c1 == c3"
      ]
    },
    {
      "cell_type": "code",
      "execution_count": null,
      "metadata": {
        "id": "WnFX6alIqZ5P"
      },
      "outputs": [],
      "source": [
        "c1 != c3"
      ]
    },
    {
      "cell_type": "markdown",
      "metadata": {
        "id": "AQeDSWXFqZ5P"
      },
      "source": [
        "### Using the `Card` Data Class in Class `DeckOfCards`\n",
        "* The **`deck2.py` file** contains **class `DeckOfCards`** using the **`Card` data class**."
      ]
    },
    {
      "cell_type": "code",
      "execution_count": null,
      "metadata": {
        "id": "fexmyOoHqZ5P"
      },
      "outputs": [],
      "source": [
        "from deck2 import DeckOfCards  # uses Card data class"
      ]
    },
    {
      "cell_type": "code",
      "execution_count": null,
      "metadata": {
        "id": "eBODOTbjqZ5P"
      },
      "outputs": [],
      "source": [
        "deck_of_cards = DeckOfCards()"
      ]
    },
    {
      "cell_type": "code",
      "execution_count": null,
      "metadata": {
        "id": "sg1RQ8NxqZ5P"
      },
      "outputs": [],
      "source": [
        "print(deck_of_cards)"
      ]
    },
    {
      "cell_type": "markdown",
      "metadata": {
        "id": "-GP9djMtqZ5P"
      },
      "source": [
        "## 10.13.4 Data Class Advantages over Traditional Classes\n",
        "* When you change a **data class's data attributes** then use it in a script or interactive session, the **autogenerated code updates automatically**.\n",
        "* **Less code to maintain and debug**.\n",
        "* **Variable annotations** enable some **static code analysis tools** to show potential errors before they can occur at **execution time**&mdash;e.g., warn you when you use the wrong data type."
      ]
    },
    {
      "cell_type": "markdown",
      "metadata": {
        "id": "WGotkWjbqZ5P"
      },
      "source": [
        "### More Information on Data Classes\n",
        "* [PEP 557](https://www.python.org/dev/peps/pep-0557/)\n",
        "* [Data Classes in Python documentation](https://docs.python.org/3/library/dataclasses.html)"
      ]
    },
    {
      "cell_type": "markdown",
      "metadata": {
        "id": "XWjckh1SqZ5P"
      },
      "source": [
        "# More Info\n",
        "* See Lesson 10 in [**Python Fundamentals LiveLessons** here on O'Reilly Online Learning](https://learning.oreilly.com/videos/python-fundamentals/9780135917411)\n",
        "* See Chapter 10 in [**Python for Programmers** on O'Reilly Online Learning](https://learning.oreilly.com/library/view/python-for-programmers/9780135231364/)\n",
        "* Interested in a print book? Check out:\n",
        "\n",
        "| Python for Programmers | Intro to Python for Computer<br>Science and Data Science\n",
        "| :------ | :------\n",
        "| <a href=\"https://amzn.to/2VvdnxE\"><img alt=\"Python for Programmers cover\" src=\"../images/PyFPCover.png\" width=\"150\" border=\"1\"/></a> | <a href=\"https://amzn.to/2LiDCmt\"><img alt=\"Intro to Python for Computer Science and Data Science: Learning to Program with AI, Big Data and the Cloud\" src=\"../images/IntroToPythonCover.png\" width=\"159\" border=\"1\"></a>\n",
        "\n",
        ">Please **do not** purchase both books&mdash;_Python for Programmers_ is a subset of _Intro to Python for Computer Science and Data Science_"
      ]
    },
    {
      "cell_type": "markdown",
      "metadata": {
        "id": "3HrIUSCaqZ5P"
      },
      "source": [
        "&copy; 2022 by Pearson Education, Inc. All Rights Reserved. The content in this notebook is based on the book [**Python for Programmers**](https://amzn.to/2VvdnxE)."
      ]
    }
  ],
  "metadata": {
    "kernelspec": {
      "display_name": "Python 3 (ipykernel)",
      "language": "python",
      "name": "python3"
    },
    "language_info": {
      "codemirror_mode": {
        "name": "ipython",
        "version": 3
      },
      "file_extension": ".py",
      "mimetype": "text/x-python",
      "name": "python",
      "nbconvert_exporter": "python",
      "pygments_lexer": "ipython3",
      "version": "3.10.9"
    },
    "colab": {
      "provenance": [],
      "include_colab_link": true
    }
  },
  "nbformat": 4,
  "nbformat_minor": 0
}